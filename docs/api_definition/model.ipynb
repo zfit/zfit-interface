{
 "cells": [
  {
   "cell_type": "markdown",
   "metadata": {
    "collapsed": true,
    "pycharm": {
     "name": "#%% md\n"
    }
   },
   "source": [
    "# Model\n",
    "\n",
    "\n",
    "## Probability Density Function\n",
    "\n",
    "A PDF is defined by\n",
    "\n",
    "$$ pdf_{A}(x_i; \\theta) := \\frac{f(x_i, \\theta)}{N_{A}(f)}$$\n",
    "\n",
    "where $f$ is a non-negative function, $x_i$ is an m dimensional data point, $\\theta$ is a set of values  and $N_A(f)$ is the normalization of f over A. By default this is\n",
    "given by\n",
    "\n",
    "$$N_A(f) := \\int_A(a_i, b_i; \\theta) da$$\n",
    "\n",
    "where $a_i$ and $b_i$ are exclusive subspaces from $x_i$ and $\\theta$.\n",
    "The integration over the limits $A$ in the variables $a_i$ is the normalization term of the PDF.\n",
    "\n",
    "The variable $x_i$ are event_dependent and are called \"observables\" while the $\\theta$ are independent\n",
    "and are referred to as \"parameters\".\n",
    "\n",
    "### Integration\n",
    "\n",
    "In zfit, an integral can be over any variable\n",
    "\n",
    "\n",
    "### Expected counts: yield\n",
    "\n",
    "A leading `ext_` in a method name means that the method returs an extended term. The extended PDF term\n",
    "is defined as\n",
    "\n",
    "$$pdf^{ext}_{A} := pdf_{A} \\cdot yield_{A}$$\n",
    "\n",
    "where the $yield$ is a term that describes the absolute scaling of the PDF. It is a parameter which\n",
    "is defined as\n",
    "\n",
    "$$yield_{A} := \\frac{\\int_A f(x_i; \\theta) }{N_A(f)}.$$\n",
    "\n",
    "In other words, $yield_{A}$ is the *expected count* of events *in the region A*."
   ]
  }
 ],
 "metadata": {
  "kernelspec": {
   "display_name": "Python 3",
   "language": "python",
   "name": "python3"
  },
  "language_info": {
   "codemirror_mode": {
    "name": "ipython",
    "version": 2
   },
   "file_extension": ".py",
   "mimetype": "text/x-python",
   "name": "python",
   "nbconvert_exporter": "python",
   "pygments_lexer": "ipython2",
   "version": "2.7.6"
  }
 },
 "nbformat": 4,
 "nbformat_minor": 0
}