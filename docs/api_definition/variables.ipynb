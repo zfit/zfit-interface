{
 "cells": [
  {
   "cell_type": "markdown",
   "metadata": {
    "collapsed": true,
    "pycharm": {
     "name": "#%% md\n"
    }
   },
   "source": [
    "# Variables and Spaces\n",
    "\n",
    "\n",
    "\n",
    "## Limits\n",
    "\n",
    "In zfit, the limits are always referred to as `lower` and `upper`.\n",
    "\n",
    "<details>\n",
    "  <summary>Why lower and upper?</summary>\n",
    "\n",
    "  Alternatives are usually less clear or cannot be used in all circumstances\n",
    "  1. min, max: not suitable because it doesn't really mean lower and upper limits\n",
    "  2. low, high: possible. But the number of chars differs\n",
    "</details>"
   ]
  }
 ],
 "metadata": {
  "kernelspec": {
   "display_name": "Python 3",
   "language": "python",
   "name": "python3"
  },
  "language_info": {
   "codemirror_mode": {
    "name": "ipython",
    "version": 2
   },
   "file_extension": ".py",
   "mimetype": "text/x-python",
   "name": "python",
   "nbconvert_exporter": "python",
   "pygments_lexer": "ipython2",
   "version": "2.7.6"
  }
 },
 "nbformat": 4,
 "nbformat_minor": 0
}